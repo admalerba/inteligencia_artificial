{
  "nbformat": 4,
  "nbformat_minor": 0,
  "metadata": {
    "colab": {
      "provenance": []
    },
    "kernelspec": {
      "name": "python3",
      "display_name": "Python 3"
    },
    "language_info": {
      "name": "python"
    }
  },
  "cells": [
    {
      "cell_type": "code",
      "execution_count": 2,
      "metadata": {
        "id": "XZKo9DbYFSSP"
      },
      "outputs": [],
      "source": [
        "import pandas as pd"
      ]
    },
    {
      "cell_type": "code",
      "source": [
        "# Carregando a base de dados do Titanic\n",
        "df_titanic = pd.read_csv('titanic.csv')"
      ],
      "metadata": {
        "id": "vPCV_ZkcFzPM"
      },
      "execution_count": 4,
      "outputs": []
    },
    {
      "cell_type": "code",
      "source": [
        "# Exibindo as primeiras 5 linhas do DataFrame\n",
        "print(df_titanic.head().to_markdown(index=False, numalign=\"left\", stralign=\"left\"))"
      ],
      "metadata": {
        "colab": {
          "base_uri": "https://localhost:8080/"
        },
        "id": "chMalGlYF8sy",
        "outputId": "39536288-92a0-4304-a600-5019dd263336"
      },
      "execution_count": 20,
      "outputs": [
        {
          "output_type": "stream",
          "name": "stdout",
          "text": [
            "| PassengerId   | Survived   | Pclass   | Name                                         | Sex    | Age   | SibSp   | Parch   | Ticket   | Fare    | Cabin   | Embarked   | Fare_BRL   |\n",
            "|:--------------|:-----------|:---------|:---------------------------------------------|:-------|:------|:--------|:--------|:---------|:--------|:--------|:-----------|:-----------|\n",
            "| 892           | 0          | 3        | Kelly, Mr. James                             | male   | 34.5  | 0       | 0       | 330911   | 7.8292  | nan     | Q          | 39.146     |\n",
            "| 893           | 1          | 3        | Wilkes, Mrs. James (Ellen Needs)             | female | 47    | 1       | 0       | 363272   | 7       | nan     | S          | 35         |\n",
            "| 894           | 0          | 2        | Myles, Mr. Thomas Francis                    | male   | 62    | 0       | 0       | 240276   | 9.6875  | nan     | Q          | 48.4375    |\n",
            "| 895           | 0          | 3        | Wirz, Mr. Albert                             | male   | 27    | 0       | 0       | 315154   | 8.6625  | nan     | S          | 43.3125    |\n",
            "| 896           | 1          | 3        | Hirvonen, Mrs. Alexander (Helga E Lindqvist) | female | 22    | 1       | 1       | 3101298  | 12.2875 | nan     | S          | 61.4375    |\n"
          ]
        }
      ]
    },
    {
      "cell_type": "code",
      "source": [
        "# Calculando a taxa de sobrevivência por sexo\n",
        "taxa_sobrevivencia_sexo = df_titanic.groupby('Sex')['Survived'].mean()\n",
        "print(taxa_sobrevivencia_sexo)"
      ],
      "metadata": {
        "colab": {
          "base_uri": "https://localhost:8080/"
        },
        "id": "yUuTbnzpdB2G",
        "outputId": "b17ce591-7d32-4f77-9c2f-385fbcdcccfb"
      },
      "execution_count": 21,
      "outputs": [
        {
          "output_type": "stream",
          "name": "stdout",
          "text": [
            "Sex\n",
            "female    1.0\n",
            "male      0.0\n",
            "Name: Survived, dtype: float64\n"
          ]
        }
      ]
    },
    {
      "cell_type": "code",
      "source": [
        "# Calculando a média da tarifa paga por passageiros em cada classe\n",
        "media_tarifa_classe = df_titanic.groupby('Pclass')['Fare'].mean()\n",
        "print(media_tarifa_classe)"
      ],
      "metadata": {
        "colab": {
          "base_uri": "https://localhost:8080/"
        },
        "id": "TNtpy2PNdROC",
        "outputId": "fca098c0-63eb-4a01-9e84-422f752485d7"
      },
      "execution_count": 22,
      "outputs": [
        {
          "output_type": "stream",
          "name": "stdout",
          "text": [
            "Pclass\n",
            "1    94.280297\n",
            "2    22.202104\n",
            "3    12.459678\n",
            "Name: Fare, dtype: float64\n"
          ]
        }
      ]
    },
    {
      "cell_type": "code",
      "source": [
        "# Determinando a distribuição da idade dos passageiros\n",
        "distribuicao_idade = df_titanic['Age'].describe()\n",
        "print(distribuicao_idade)"
      ],
      "metadata": {
        "colab": {
          "base_uri": "https://localhost:8080/"
        },
        "id": "jXjMFSo7dVuq",
        "outputId": "5665d3dd-bb97-4610-b248-9bfa58a8ec9a"
      },
      "execution_count": 27,
      "outputs": [
        {
          "output_type": "stream",
          "name": "stdout",
          "text": [
            "count    332.000000\n",
            "mean      30.272590\n",
            "std       14.181209\n",
            "min        0.170000\n",
            "25%       21.000000\n",
            "50%       27.000000\n",
            "75%       39.000000\n",
            "max       76.000000\n",
            "Name: Age, dtype: float64\n"
          ]
        }
      ]
    },
    {
      "cell_type": "code",
      "source": [
        "# Exibindo informações sobre as colunas e seus tipos\n",
        "print(df_titanic.info())"
      ],
      "metadata": {
        "colab": {
          "base_uri": "https://localhost:8080/"
        },
        "id": "B_unZa75F9VZ",
        "outputId": "ade5ef11-19b2-4dc2-898e-38319c980237"
      },
      "execution_count": 17,
      "outputs": [
        {
          "output_type": "stream",
          "name": "stdout",
          "text": [
            "<class 'pandas.core.frame.DataFrame'>\n",
            "RangeIndex: 418 entries, 0 to 417\n",
            "Data columns (total 13 columns):\n",
            " #   Column       Non-Null Count  Dtype  \n",
            "---  ------       --------------  -----  \n",
            " 0   PassengerId  418 non-null    int64  \n",
            " 1   Survived     418 non-null    int64  \n",
            " 2   Pclass       418 non-null    int64  \n",
            " 3   Name         418 non-null    object \n",
            " 4   Sex          418 non-null    object \n",
            " 5   Age          332 non-null    float64\n",
            " 6   SibSp        418 non-null    int64  \n",
            " 7   Parch        418 non-null    int64  \n",
            " 8   Ticket       418 non-null    object \n",
            " 9   Fare         417 non-null    float64\n",
            " 10  Cabin        91 non-null     object \n",
            " 11  Embarked     418 non-null    object \n",
            " 12  Fare_BRL     417 non-null    float64\n",
            "dtypes: float64(3), int64(5), object(5)\n",
            "memory usage: 42.6+ KB\n",
            "None\n"
          ]
        }
      ]
    },
    {
      "cell_type": "code",
      "source": [
        "# Encontrando o ponto de embarque mais comum\n",
        "ponto_embarque_comum = df_titanic['Embarked'].mode()\n",
        "print(ponto_embarque_comum)"
      ],
      "metadata": {
        "colab": {
          "base_uri": "https://localhost:8080/"
        },
        "id": "klAsXpE3dv25",
        "outputId": "96996e83-5ae0-4b5e-cffe-8a951945d919"
      },
      "execution_count": 28,
      "outputs": [
        {
          "output_type": "stream",
          "name": "stdout",
          "text": [
            "0    S\n",
            "Name: Embarked, dtype: object\n"
          ]
        }
      ]
    },
    {
      "cell_type": "code",
      "source": [
        "# Calculando a média da idade dos passageiros\n",
        "media_idade = df_titanic['Age'].mean()\n",
        "print(f'Média de idade dos passageiros: {media_idade:.2f}')"
      ],
      "metadata": {
        "colab": {
          "base_uri": "https://localhost:8080/"
        },
        "id": "SsDy957pGBT1",
        "outputId": "d43a11a6-49ce-49b9-f319-03dae032b55e"
      },
      "execution_count": 9,
      "outputs": [
        {
          "output_type": "stream",
          "name": "stdout",
          "text": [
            "Média de idade dos passageiros: 30.27\n"
          ]
        }
      ]
    },
    {
      "cell_type": "code",
      "source": [
        "# Contando o número de passageiros por classe\n",
        "contagem_classe = df_titanic['Pclass'].value_counts()\n",
        "print('\\nNúmero de passageiros por classe:')\n",
        "print(contagem_classe.to_markdown(numalign=\"left\", stralign=\"left\"))"
      ],
      "metadata": {
        "colab": {
          "base_uri": "https://localhost:8080/"
        },
        "id": "PKvSYLY9Gyyg",
        "outputId": "24ba12a0-4a31-4424-f9e9-223c1bf8daa2"
      },
      "execution_count": 10,
      "outputs": [
        {
          "output_type": "stream",
          "name": "stdout",
          "text": [
            "\n",
            "Número de passageiros por classe:\n",
            "| Pclass   | count   |\n",
            "|:---------|:--------|\n",
            "| 3        | 218     |\n",
            "| 1        | 107     |\n",
            "| 2        | 93      |\n"
          ]
        }
      ]
    },
    {
      "cell_type": "code",
      "source": [
        "# Criando uma nova coluna com a tarifa em reais (assumindo uma taxa de câmbio de 5.0)\n",
        "df_titanic['Fare_BRL'] = df_titanic['Fare'] * 5.0"
      ],
      "metadata": {
        "id": "UuO_VyQqG1QB"
      },
      "execution_count": 13,
      "outputs": []
    },
    {
      "cell_type": "code",
      "source": [
        "# Exibindo as primeiras 5 linhas do DataFrame com a nova coluna\n",
        "print(df_titanic.head().to_markdown(index=False, numalign=\"left\", stralign=\"left\"))"
      ],
      "metadata": {
        "colab": {
          "base_uri": "https://localhost:8080/"
        },
        "id": "E2d_v12EG3NK",
        "outputId": "0f43486f-3d47-465a-dc4e-15e0a9099a73"
      },
      "execution_count": 14,
      "outputs": [
        {
          "output_type": "stream",
          "name": "stdout",
          "text": [
            "| PassengerId   | Survived   | Pclass   | Name                                         | Sex    | Age   | SibSp   | Parch   | Ticket   | Fare    | Cabin   | Embarked   | Fare_BRL   |\n",
            "|:--------------|:-----------|:---------|:---------------------------------------------|:-------|:------|:--------|:--------|:---------|:--------|:--------|:-----------|:-----------|\n",
            "| 892           | 0          | 3        | Kelly, Mr. James                             | male   | 34.5  | 0       | 0       | 330911   | 7.8292  | nan     | Q          | 39.146     |\n",
            "| 893           | 1          | 3        | Wilkes, Mrs. James (Ellen Needs)             | female | 47    | 1       | 0       | 363272   | 7       | nan     | S          | 35         |\n",
            "| 894           | 0          | 2        | Myles, Mr. Thomas Francis                    | male   | 62    | 0       | 0       | 240276   | 9.6875  | nan     | Q          | 48.4375    |\n",
            "| 895           | 0          | 3        | Wirz, Mr. Albert                             | male   | 27    | 0       | 0       | 315154   | 8.6625  | nan     | S          | 43.3125    |\n",
            "| 896           | 1          | 3        | Hirvonen, Mrs. Alexander (Helga E Lindqvist) | female | 22    | 1       | 1       | 3101298  | 12.2875 | nan     | S          | 61.4375    |\n"
          ]
        }
      ]
    },
    {
      "cell_type": "code",
      "source": [
        "# Filtrando passageiros que sobreviveram\n",
        "sobreviventes = df_titanic[df_titanic['Survived'] == 1]\n",
        "print(f'\\nNúmero de sobreviventes: {len(sobreviventes)}')"
      ],
      "metadata": {
        "colab": {
          "base_uri": "https://localhost:8080/"
        },
        "id": "DelmkiiJG5_Q",
        "outputId": "fd1a4ac5-dde0-4ecd-b6a1-ab6f8a428eeb"
      },
      "execution_count": 15,
      "outputs": [
        {
          "output_type": "stream",
          "name": "stdout",
          "text": [
            "\n",
            "Número de sobreviventes: 152\n"
          ]
        }
      ]
    },
    {
      "cell_type": "code",
      "source": [
        "# Agrupando os passageiros por sexo e calculando a média da idade\n",
        "media_idade_por_sexo = df_titanic.groupby('Sex')['Age'].mean()\n",
        "print('\\nMédia de idade por sexo:')\n",
        "print(media_idade_por_sexo.to_markdown(numalign=\"left\", stralign=\"left\"))"
      ],
      "metadata": {
        "colab": {
          "base_uri": "https://localhost:8080/"
        },
        "id": "LhCmYSuWG-YX",
        "outputId": "a5e0a095-31f8-49ed-dd1f-de4193431152"
      },
      "execution_count": 16,
      "outputs": [
        {
          "output_type": "stream",
          "name": "stdout",
          "text": [
            "\n",
            "Média de idade por sexo:\n",
            "| Sex    | Age     |\n",
            "|:-------|:--------|\n",
            "| female | 30.2724 |\n",
            "| male   | 30.2727 |\n"
          ]
        }
      ]
    }
  ]
}